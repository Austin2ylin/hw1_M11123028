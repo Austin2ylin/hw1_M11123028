{
  "cells": [
    {
      "cell_type": "markdown",
      "source": [
        "1."
      ],
      "metadata": {
        "id": "fgBuxUX6WRMp"
      }
    },
    {
      "cell_type": "code",
      "execution_count": 4,
      "metadata": {
        "id": "siyhPEUhOvwz"
      },
      "outputs": [],
      "source": [
        "import  numpy as np\n",
        "from sklearn.model_selection import train_test_split\n",
        "import matplotlib.pyplot as plt\n",
        "import seaborn as sns\n",
        "import pandas as pd\n",
        "import xlrd\n",
        "%matplotlib inline\n",
        "import warnings"
      ]
    },
    {
      "cell_type": "code",
      "execution_count": 5,
      "metadata": {
        "id": "w-xGxueKOvw1"
      },
      "outputs": [],
      "source": [
        "columns = ['Date','Time','CO(GT)','PT08.S1(CO)','NMHC(GT)',\n",
        "           'C6H6(GT)','PT08.S2(NMHC)','NOx(GT)','PT08.S3(NOx)','NO2(GT)',\n",
        "           'PT08.S4(NO2)','PT08.S5(O3)','T','RH','AH']"
      ]
    },
    {
      "cell_type": "code",
      "execution_count": 6,
      "metadata": {
        "colab": {
          "base_uri": "https://localhost:8080/",
          "height": 419
        },
        "id": "z1WTBYiLOvw1",
        "outputId": "0f0b4ac8-0028-43b0-d19a-1e6ee0660fd6"
      },
      "outputs": [
        {
          "output_type": "execute_result",
          "data": {
            "text/plain": [
              "           Date      Time  CO(GT)  PT08.S1(CO)  NMHC(GT)   C6H6(GT)  \\\n",
              "0    2004-03-10  18:00:00     2.6      1360.00       150  11.881723   \n",
              "1    2004-03-10  19:00:00     2.0      1292.25       112   9.397165   \n",
              "2    2004-03-10  20:00:00     2.2      1402.00        88   8.997817   \n",
              "3    2004-03-10  21:00:00     2.2      1375.50        80   9.228796   \n",
              "4    2004-03-10  22:00:00     1.6      1272.25        51   6.518224   \n",
              "...         ...       ...     ...          ...       ...        ...   \n",
              "9352 2005-04-04  10:00:00     3.1      1314.25      -200  13.529605   \n",
              "9353 2005-04-04  11:00:00     2.4      1162.50      -200  11.355157   \n",
              "9354 2005-04-04  12:00:00     2.4      1142.00      -200  12.374538   \n",
              "9355 2005-04-04  13:00:00     2.1      1002.50      -200   9.547187   \n",
              "9356 2005-04-04  14:00:00     2.2      1070.75      -200  11.932060   \n",
              "\n",
              "      PT08.S2(NMHC)  NOx(GT)  PT08.S3(NOx)  NO2(GT)  PT08.S4(NO2)  \\\n",
              "0           1045.50    166.0       1056.25    113.0       1692.00   \n",
              "1            954.75    103.0       1173.75     92.0       1558.75   \n",
              "2            939.25    131.0       1140.00    114.0       1554.50   \n",
              "3            948.25    172.0       1092.00    122.0       1583.75   \n",
              "4            835.50    131.0       1205.00    116.0       1490.00   \n",
              "...             ...      ...           ...      ...           ...   \n",
              "9352        1101.25    471.7        538.50    189.8       1374.25   \n",
              "9353        1027.00    353.3        603.75    179.2       1263.50   \n",
              "9354        1062.50    293.0        603.25    174.7       1240.75   \n",
              "9355         960.50    234.5        701.50    155.7       1041.00   \n",
              "9356        1047.25    265.2        654.00    167.7       1128.50   \n",
              "\n",
              "      PT08.S5(O3)       T         RH        AH  \n",
              "0         1267.50  13.600  48.875001  0.757754  \n",
              "1          972.25  13.300  47.700000  0.725487  \n",
              "2         1074.00  11.900  53.975000  0.750239  \n",
              "3         1203.25  11.000  60.000000  0.786713  \n",
              "4         1110.00  11.150  59.575001  0.788794  \n",
              "...           ...     ...        ...       ...  \n",
              "9352      1728.50  21.850  29.250000  0.756824  \n",
              "9353      1269.00  24.325  23.725000  0.711864  \n",
              "9354      1092.00  26.900  18.350000  0.640649  \n",
              "9355       769.75  28.325  13.550000  0.513866  \n",
              "9356       816.00  28.500  13.125000  0.502804  \n",
              "\n",
              "[9357 rows x 15 columns]"
            ],
            "text/html": [
              "\n",
              "  <div id=\"df-c40b836a-7668-4926-a768-c722b6a2bcaf\">\n",
              "    <div class=\"colab-df-container\">\n",
              "      <div>\n",
              "<style scoped>\n",
              "    .dataframe tbody tr th:only-of-type {\n",
              "        vertical-align: middle;\n",
              "    }\n",
              "\n",
              "    .dataframe tbody tr th {\n",
              "        vertical-align: top;\n",
              "    }\n",
              "\n",
              "    .dataframe thead th {\n",
              "        text-align: right;\n",
              "    }\n",
              "</style>\n",
              "<table border=\"1\" class=\"dataframe\">\n",
              "  <thead>\n",
              "    <tr style=\"text-align: right;\">\n",
              "      <th></th>\n",
              "      <th>Date</th>\n",
              "      <th>Time</th>\n",
              "      <th>CO(GT)</th>\n",
              "      <th>PT08.S1(CO)</th>\n",
              "      <th>NMHC(GT)</th>\n",
              "      <th>C6H6(GT)</th>\n",
              "      <th>PT08.S2(NMHC)</th>\n",
              "      <th>NOx(GT)</th>\n",
              "      <th>PT08.S3(NOx)</th>\n",
              "      <th>NO2(GT)</th>\n",
              "      <th>PT08.S4(NO2)</th>\n",
              "      <th>PT08.S5(O3)</th>\n",
              "      <th>T</th>\n",
              "      <th>RH</th>\n",
              "      <th>AH</th>\n",
              "    </tr>\n",
              "  </thead>\n",
              "  <tbody>\n",
              "    <tr>\n",
              "      <th>0</th>\n",
              "      <td>2004-03-10</td>\n",
              "      <td>18:00:00</td>\n",
              "      <td>2.6</td>\n",
              "      <td>1360.00</td>\n",
              "      <td>150</td>\n",
              "      <td>11.881723</td>\n",
              "      <td>1045.50</td>\n",
              "      <td>166.0</td>\n",
              "      <td>1056.25</td>\n",
              "      <td>113.0</td>\n",
              "      <td>1692.00</td>\n",
              "      <td>1267.50</td>\n",
              "      <td>13.600</td>\n",
              "      <td>48.875001</td>\n",
              "      <td>0.757754</td>\n",
              "    </tr>\n",
              "    <tr>\n",
              "      <th>1</th>\n",
              "      <td>2004-03-10</td>\n",
              "      <td>19:00:00</td>\n",
              "      <td>2.0</td>\n",
              "      <td>1292.25</td>\n",
              "      <td>112</td>\n",
              "      <td>9.397165</td>\n",
              "      <td>954.75</td>\n",
              "      <td>103.0</td>\n",
              "      <td>1173.75</td>\n",
              "      <td>92.0</td>\n",
              "      <td>1558.75</td>\n",
              "      <td>972.25</td>\n",
              "      <td>13.300</td>\n",
              "      <td>47.700000</td>\n",
              "      <td>0.725487</td>\n",
              "    </tr>\n",
              "    <tr>\n",
              "      <th>2</th>\n",
              "      <td>2004-03-10</td>\n",
              "      <td>20:00:00</td>\n",
              "      <td>2.2</td>\n",
              "      <td>1402.00</td>\n",
              "      <td>88</td>\n",
              "      <td>8.997817</td>\n",
              "      <td>939.25</td>\n",
              "      <td>131.0</td>\n",
              "      <td>1140.00</td>\n",
              "      <td>114.0</td>\n",
              "      <td>1554.50</td>\n",
              "      <td>1074.00</td>\n",
              "      <td>11.900</td>\n",
              "      <td>53.975000</td>\n",
              "      <td>0.750239</td>\n",
              "    </tr>\n",
              "    <tr>\n",
              "      <th>3</th>\n",
              "      <td>2004-03-10</td>\n",
              "      <td>21:00:00</td>\n",
              "      <td>2.2</td>\n",
              "      <td>1375.50</td>\n",
              "      <td>80</td>\n",
              "      <td>9.228796</td>\n",
              "      <td>948.25</td>\n",
              "      <td>172.0</td>\n",
              "      <td>1092.00</td>\n",
              "      <td>122.0</td>\n",
              "      <td>1583.75</td>\n",
              "      <td>1203.25</td>\n",
              "      <td>11.000</td>\n",
              "      <td>60.000000</td>\n",
              "      <td>0.786713</td>\n",
              "    </tr>\n",
              "    <tr>\n",
              "      <th>4</th>\n",
              "      <td>2004-03-10</td>\n",
              "      <td>22:00:00</td>\n",
              "      <td>1.6</td>\n",
              "      <td>1272.25</td>\n",
              "      <td>51</td>\n",
              "      <td>6.518224</td>\n",
              "      <td>835.50</td>\n",
              "      <td>131.0</td>\n",
              "      <td>1205.00</td>\n",
              "      <td>116.0</td>\n",
              "      <td>1490.00</td>\n",
              "      <td>1110.00</td>\n",
              "      <td>11.150</td>\n",
              "      <td>59.575001</td>\n",
              "      <td>0.788794</td>\n",
              "    </tr>\n",
              "    <tr>\n",
              "      <th>...</th>\n",
              "      <td>...</td>\n",
              "      <td>...</td>\n",
              "      <td>...</td>\n",
              "      <td>...</td>\n",
              "      <td>...</td>\n",
              "      <td>...</td>\n",
              "      <td>...</td>\n",
              "      <td>...</td>\n",
              "      <td>...</td>\n",
              "      <td>...</td>\n",
              "      <td>...</td>\n",
              "      <td>...</td>\n",
              "      <td>...</td>\n",
              "      <td>...</td>\n",
              "      <td>...</td>\n",
              "    </tr>\n",
              "    <tr>\n",
              "      <th>9352</th>\n",
              "      <td>2005-04-04</td>\n",
              "      <td>10:00:00</td>\n",
              "      <td>3.1</td>\n",
              "      <td>1314.25</td>\n",
              "      <td>-200</td>\n",
              "      <td>13.529605</td>\n",
              "      <td>1101.25</td>\n",
              "      <td>471.7</td>\n",
              "      <td>538.50</td>\n",
              "      <td>189.8</td>\n",
              "      <td>1374.25</td>\n",
              "      <td>1728.50</td>\n",
              "      <td>21.850</td>\n",
              "      <td>29.250000</td>\n",
              "      <td>0.756824</td>\n",
              "    </tr>\n",
              "    <tr>\n",
              "      <th>9353</th>\n",
              "      <td>2005-04-04</td>\n",
              "      <td>11:00:00</td>\n",
              "      <td>2.4</td>\n",
              "      <td>1162.50</td>\n",
              "      <td>-200</td>\n",
              "      <td>11.355157</td>\n",
              "      <td>1027.00</td>\n",
              "      <td>353.3</td>\n",
              "      <td>603.75</td>\n",
              "      <td>179.2</td>\n",
              "      <td>1263.50</td>\n",
              "      <td>1269.00</td>\n",
              "      <td>24.325</td>\n",
              "      <td>23.725000</td>\n",
              "      <td>0.711864</td>\n",
              "    </tr>\n",
              "    <tr>\n",
              "      <th>9354</th>\n",
              "      <td>2005-04-04</td>\n",
              "      <td>12:00:00</td>\n",
              "      <td>2.4</td>\n",
              "      <td>1142.00</td>\n",
              "      <td>-200</td>\n",
              "      <td>12.374538</td>\n",
              "      <td>1062.50</td>\n",
              "      <td>293.0</td>\n",
              "      <td>603.25</td>\n",
              "      <td>174.7</td>\n",
              "      <td>1240.75</td>\n",
              "      <td>1092.00</td>\n",
              "      <td>26.900</td>\n",
              "      <td>18.350000</td>\n",
              "      <td>0.640649</td>\n",
              "    </tr>\n",
              "    <tr>\n",
              "      <th>9355</th>\n",
              "      <td>2005-04-04</td>\n",
              "      <td>13:00:00</td>\n",
              "      <td>2.1</td>\n",
              "      <td>1002.50</td>\n",
              "      <td>-200</td>\n",
              "      <td>9.547187</td>\n",
              "      <td>960.50</td>\n",
              "      <td>234.5</td>\n",
              "      <td>701.50</td>\n",
              "      <td>155.7</td>\n",
              "      <td>1041.00</td>\n",
              "      <td>769.75</td>\n",
              "      <td>28.325</td>\n",
              "      <td>13.550000</td>\n",
              "      <td>0.513866</td>\n",
              "    </tr>\n",
              "    <tr>\n",
              "      <th>9356</th>\n",
              "      <td>2005-04-04</td>\n",
              "      <td>14:00:00</td>\n",
              "      <td>2.2</td>\n",
              "      <td>1070.75</td>\n",
              "      <td>-200</td>\n",
              "      <td>11.932060</td>\n",
              "      <td>1047.25</td>\n",
              "      <td>265.2</td>\n",
              "      <td>654.00</td>\n",
              "      <td>167.7</td>\n",
              "      <td>1128.50</td>\n",
              "      <td>816.00</td>\n",
              "      <td>28.500</td>\n",
              "      <td>13.125000</td>\n",
              "      <td>0.502804</td>\n",
              "    </tr>\n",
              "  </tbody>\n",
              "</table>\n",
              "<p>9357 rows × 15 columns</p>\n",
              "</div>\n",
              "      <button class=\"colab-df-convert\" onclick=\"convertToInteractive('df-c40b836a-7668-4926-a768-c722b6a2bcaf')\"\n",
              "              title=\"Convert this dataframe to an interactive table.\"\n",
              "              style=\"display:none;\">\n",
              "        \n",
              "  <svg xmlns=\"http://www.w3.org/2000/svg\" height=\"24px\"viewBox=\"0 0 24 24\"\n",
              "       width=\"24px\">\n",
              "    <path d=\"M0 0h24v24H0V0z\" fill=\"none\"/>\n",
              "    <path d=\"M18.56 5.44l.94 2.06.94-2.06 2.06-.94-2.06-.94-.94-2.06-.94 2.06-2.06.94zm-11 1L8.5 8.5l.94-2.06 2.06-.94-2.06-.94L8.5 2.5l-.94 2.06-2.06.94zm10 10l.94 2.06.94-2.06 2.06-.94-2.06-.94-.94-2.06-.94 2.06-2.06.94z\"/><path d=\"M17.41 7.96l-1.37-1.37c-.4-.4-.92-.59-1.43-.59-.52 0-1.04.2-1.43.59L10.3 9.45l-7.72 7.72c-.78.78-.78 2.05 0 2.83L4 21.41c.39.39.9.59 1.41.59.51 0 1.02-.2 1.41-.59l7.78-7.78 2.81-2.81c.8-.78.8-2.07 0-2.86zM5.41 20L4 18.59l7.72-7.72 1.47 1.35L5.41 20z\"/>\n",
              "  </svg>\n",
              "      </button>\n",
              "      \n",
              "  <style>\n",
              "    .colab-df-container {\n",
              "      display:flex;\n",
              "      flex-wrap:wrap;\n",
              "      gap: 12px;\n",
              "    }\n",
              "\n",
              "    .colab-df-convert {\n",
              "      background-color: #E8F0FE;\n",
              "      border: none;\n",
              "      border-radius: 50%;\n",
              "      cursor: pointer;\n",
              "      display: none;\n",
              "      fill: #1967D2;\n",
              "      height: 32px;\n",
              "      padding: 0 0 0 0;\n",
              "      width: 32px;\n",
              "    }\n",
              "\n",
              "    .colab-df-convert:hover {\n",
              "      background-color: #E2EBFA;\n",
              "      box-shadow: 0px 1px 2px rgba(60, 64, 67, 0.3), 0px 1px 3px 1px rgba(60, 64, 67, 0.15);\n",
              "      fill: #174EA6;\n",
              "    }\n",
              "\n",
              "    [theme=dark] .colab-df-convert {\n",
              "      background-color: #3B4455;\n",
              "      fill: #D2E3FC;\n",
              "    }\n",
              "\n",
              "    [theme=dark] .colab-df-convert:hover {\n",
              "      background-color: #434B5C;\n",
              "      box-shadow: 0px 1px 3px 1px rgba(0, 0, 0, 0.15);\n",
              "      filter: drop-shadow(0px 1px 2px rgba(0, 0, 0, 0.3));\n",
              "      fill: #FFFFFF;\n",
              "    }\n",
              "  </style>\n",
              "\n",
              "      <script>\n",
              "        const buttonEl =\n",
              "          document.querySelector('#df-c40b836a-7668-4926-a768-c722b6a2bcaf button.colab-df-convert');\n",
              "        buttonEl.style.display =\n",
              "          google.colab.kernel.accessAllowed ? 'block' : 'none';\n",
              "\n",
              "        async function convertToInteractive(key) {\n",
              "          const element = document.querySelector('#df-c40b836a-7668-4926-a768-c722b6a2bcaf');\n",
              "          const dataTable =\n",
              "            await google.colab.kernel.invokeFunction('convertToInteractive',\n",
              "                                                     [key], {});\n",
              "          if (!dataTable) return;\n",
              "\n",
              "          const docLinkHtml = 'Like what you see? Visit the ' +\n",
              "            '<a target=\"_blank\" href=https://colab.research.google.com/notebooks/data_table.ipynb>data table notebook</a>'\n",
              "            + ' to learn more about interactive tables.';\n",
              "          element.innerHTML = '';\n",
              "          dataTable['output_type'] = 'display_data';\n",
              "          await google.colab.output.renderOutput(dataTable, element);\n",
              "          const docLink = document.createElement('div');\n",
              "          docLink.innerHTML = docLinkHtml;\n",
              "          element.appendChild(docLink);\n",
              "        }\n",
              "      </script>\n",
              "    </div>\n",
              "  </div>\n",
              "  "
            ]
          },
          "metadata": {},
          "execution_count": 6
        }
      ],
      "source": [
        "df=pd.read_excel(\"AirQualityUCI.xlsx\")\n",
        "df"
      ]
    },
    {
      "cell_type": "code",
      "execution_count": 7,
      "metadata": {
        "colab": {
          "base_uri": "https://localhost:8080/",
          "height": 359
        },
        "id": "jdzEX5ThOvw3",
        "outputId": "e1973297-526c-4039-be8a-eaf8f95465de"
      },
      "outputs": [
        {
          "output_type": "execute_result",
          "data": {
            "text/plain": [
              "        Date      Time  CO(GT)  PT08.S1(CO)  NMHC(GT)   C6H6(GT)  \\\n",
              "0 2004-03-10  18:00:00     2.6     0.696506  0.251980  11.881723   \n",
              "1 2004-03-10  19:00:00     2.0     0.666257  0.224622   9.397165   \n",
              "2 2004-03-10  20:00:00     2.2     0.715258  0.207343   8.997817   \n",
              "3 2004-03-10  21:00:00     2.2     0.703427  0.201584   9.228796   \n",
              "4 2004-03-10  22:00:00     1.6     0.657328  0.180706   6.518224   \n",
              "5 2004-03-10  23:00:00     1.2     0.623730  0.171346   4.741012   \n",
              "6 2004-03-11  00:00:00     1.2     0.618373  0.166307   3.624399   \n",
              "7 2004-03-11  01:00:00     1.0     0.596607  0.166307   3.326677   \n",
              "8 2004-03-11  02:00:00     0.9     0.577743  0.161267   2.339416   \n",
              "9 2004-03-11  03:00:00     0.6     0.540127  0.157667   1.696658   \n",
              "\n",
              "   PT08.S2(NMHC)  NOx(GT)  PT08.S3(NOx)  NO2(GT)  PT08.S4(NO2)  PT08.S5(O3)  \\\n",
              "0        1045.50    166.0       1056.25    113.0       1692.00      1267.50   \n",
              "1         954.75    103.0       1173.75     92.0       1558.75       972.25   \n",
              "2         939.25    131.0       1140.00    114.0       1554.50      1074.00   \n",
              "3         948.25    172.0       1092.00    122.0       1583.75      1203.25   \n",
              "4         835.50    131.0       1205.00    116.0       1490.00      1110.00   \n",
              "5         750.25     89.0       1336.50     96.0       1393.00       949.25   \n",
              "6         689.50     62.0       1461.75     77.0       1332.75       732.50   \n",
              "7         672.00     62.0       1453.25     76.0       1332.75       729.50   \n",
              "8         608.50     45.0       1579.00     60.0       1276.00       619.50   \n",
              "9         560.75   -200.0       1705.00   -200.0       1234.75       501.25   \n",
              "\n",
              "        T         RH        AH  \n",
              "0  13.600  48.875001  0.757754  \n",
              "1  13.300  47.700000  0.725487  \n",
              "2  11.900  53.975000  0.750239  \n",
              "3  11.000  60.000000  0.786713  \n",
              "4  11.150  59.575001  0.788794  \n",
              "5  11.175  59.175000  0.784772  \n",
              "6  11.325  56.775000  0.760312  \n",
              "7  10.675  60.000000  0.770238  \n",
              "8  10.650  59.674999  0.764819  \n",
              "9  10.250  60.200001  0.751657  "
            ],
            "text/html": [
              "\n",
              "  <div id=\"df-75272fcb-93d2-4d60-966e-b34a0d202f0d\">\n",
              "    <div class=\"colab-df-container\">\n",
              "      <div>\n",
              "<style scoped>\n",
              "    .dataframe tbody tr th:only-of-type {\n",
              "        vertical-align: middle;\n",
              "    }\n",
              "\n",
              "    .dataframe tbody tr th {\n",
              "        vertical-align: top;\n",
              "    }\n",
              "\n",
              "    .dataframe thead th {\n",
              "        text-align: right;\n",
              "    }\n",
              "</style>\n",
              "<table border=\"1\" class=\"dataframe\">\n",
              "  <thead>\n",
              "    <tr style=\"text-align: right;\">\n",
              "      <th></th>\n",
              "      <th>Date</th>\n",
              "      <th>Time</th>\n",
              "      <th>CO(GT)</th>\n",
              "      <th>PT08.S1(CO)</th>\n",
              "      <th>NMHC(GT)</th>\n",
              "      <th>C6H6(GT)</th>\n",
              "      <th>PT08.S2(NMHC)</th>\n",
              "      <th>NOx(GT)</th>\n",
              "      <th>PT08.S3(NOx)</th>\n",
              "      <th>NO2(GT)</th>\n",
              "      <th>PT08.S4(NO2)</th>\n",
              "      <th>PT08.S5(O3)</th>\n",
              "      <th>T</th>\n",
              "      <th>RH</th>\n",
              "      <th>AH</th>\n",
              "    </tr>\n",
              "  </thead>\n",
              "  <tbody>\n",
              "    <tr>\n",
              "      <th>0</th>\n",
              "      <td>2004-03-10</td>\n",
              "      <td>18:00:00</td>\n",
              "      <td>2.6</td>\n",
              "      <td>0.696506</td>\n",
              "      <td>0.251980</td>\n",
              "      <td>11.881723</td>\n",
              "      <td>1045.50</td>\n",
              "      <td>166.0</td>\n",
              "      <td>1056.25</td>\n",
              "      <td>113.0</td>\n",
              "      <td>1692.00</td>\n",
              "      <td>1267.50</td>\n",
              "      <td>13.600</td>\n",
              "      <td>48.875001</td>\n",
              "      <td>0.757754</td>\n",
              "    </tr>\n",
              "    <tr>\n",
              "      <th>1</th>\n",
              "      <td>2004-03-10</td>\n",
              "      <td>19:00:00</td>\n",
              "      <td>2.0</td>\n",
              "      <td>0.666257</td>\n",
              "      <td>0.224622</td>\n",
              "      <td>9.397165</td>\n",
              "      <td>954.75</td>\n",
              "      <td>103.0</td>\n",
              "      <td>1173.75</td>\n",
              "      <td>92.0</td>\n",
              "      <td>1558.75</td>\n",
              "      <td>972.25</td>\n",
              "      <td>13.300</td>\n",
              "      <td>47.700000</td>\n",
              "      <td>0.725487</td>\n",
              "    </tr>\n",
              "    <tr>\n",
              "      <th>2</th>\n",
              "      <td>2004-03-10</td>\n",
              "      <td>20:00:00</td>\n",
              "      <td>2.2</td>\n",
              "      <td>0.715258</td>\n",
              "      <td>0.207343</td>\n",
              "      <td>8.997817</td>\n",
              "      <td>939.25</td>\n",
              "      <td>131.0</td>\n",
              "      <td>1140.00</td>\n",
              "      <td>114.0</td>\n",
              "      <td>1554.50</td>\n",
              "      <td>1074.00</td>\n",
              "      <td>11.900</td>\n",
              "      <td>53.975000</td>\n",
              "      <td>0.750239</td>\n",
              "    </tr>\n",
              "    <tr>\n",
              "      <th>3</th>\n",
              "      <td>2004-03-10</td>\n",
              "      <td>21:00:00</td>\n",
              "      <td>2.2</td>\n",
              "      <td>0.703427</td>\n",
              "      <td>0.201584</td>\n",
              "      <td>9.228796</td>\n",
              "      <td>948.25</td>\n",
              "      <td>172.0</td>\n",
              "      <td>1092.00</td>\n",
              "      <td>122.0</td>\n",
              "      <td>1583.75</td>\n",
              "      <td>1203.25</td>\n",
              "      <td>11.000</td>\n",
              "      <td>60.000000</td>\n",
              "      <td>0.786713</td>\n",
              "    </tr>\n",
              "    <tr>\n",
              "      <th>4</th>\n",
              "      <td>2004-03-10</td>\n",
              "      <td>22:00:00</td>\n",
              "      <td>1.6</td>\n",
              "      <td>0.657328</td>\n",
              "      <td>0.180706</td>\n",
              "      <td>6.518224</td>\n",
              "      <td>835.50</td>\n",
              "      <td>131.0</td>\n",
              "      <td>1205.00</td>\n",
              "      <td>116.0</td>\n",
              "      <td>1490.00</td>\n",
              "      <td>1110.00</td>\n",
              "      <td>11.150</td>\n",
              "      <td>59.575001</td>\n",
              "      <td>0.788794</td>\n",
              "    </tr>\n",
              "    <tr>\n",
              "      <th>5</th>\n",
              "      <td>2004-03-10</td>\n",
              "      <td>23:00:00</td>\n",
              "      <td>1.2</td>\n",
              "      <td>0.623730</td>\n",
              "      <td>0.171346</td>\n",
              "      <td>4.741012</td>\n",
              "      <td>750.25</td>\n",
              "      <td>89.0</td>\n",
              "      <td>1336.50</td>\n",
              "      <td>96.0</td>\n",
              "      <td>1393.00</td>\n",
              "      <td>949.25</td>\n",
              "      <td>11.175</td>\n",
              "      <td>59.175000</td>\n",
              "      <td>0.784772</td>\n",
              "    </tr>\n",
              "    <tr>\n",
              "      <th>6</th>\n",
              "      <td>2004-03-11</td>\n",
              "      <td>00:00:00</td>\n",
              "      <td>1.2</td>\n",
              "      <td>0.618373</td>\n",
              "      <td>0.166307</td>\n",
              "      <td>3.624399</td>\n",
              "      <td>689.50</td>\n",
              "      <td>62.0</td>\n",
              "      <td>1461.75</td>\n",
              "      <td>77.0</td>\n",
              "      <td>1332.75</td>\n",
              "      <td>732.50</td>\n",
              "      <td>11.325</td>\n",
              "      <td>56.775000</td>\n",
              "      <td>0.760312</td>\n",
              "    </tr>\n",
              "    <tr>\n",
              "      <th>7</th>\n",
              "      <td>2004-03-11</td>\n",
              "      <td>01:00:00</td>\n",
              "      <td>1.0</td>\n",
              "      <td>0.596607</td>\n",
              "      <td>0.166307</td>\n",
              "      <td>3.326677</td>\n",
              "      <td>672.00</td>\n",
              "      <td>62.0</td>\n",
              "      <td>1453.25</td>\n",
              "      <td>76.0</td>\n",
              "      <td>1332.75</td>\n",
              "      <td>729.50</td>\n",
              "      <td>10.675</td>\n",
              "      <td>60.000000</td>\n",
              "      <td>0.770238</td>\n",
              "    </tr>\n",
              "    <tr>\n",
              "      <th>8</th>\n",
              "      <td>2004-03-11</td>\n",
              "      <td>02:00:00</td>\n",
              "      <td>0.9</td>\n",
              "      <td>0.577743</td>\n",
              "      <td>0.161267</td>\n",
              "      <td>2.339416</td>\n",
              "      <td>608.50</td>\n",
              "      <td>45.0</td>\n",
              "      <td>1579.00</td>\n",
              "      <td>60.0</td>\n",
              "      <td>1276.00</td>\n",
              "      <td>619.50</td>\n",
              "      <td>10.650</td>\n",
              "      <td>59.674999</td>\n",
              "      <td>0.764819</td>\n",
              "    </tr>\n",
              "    <tr>\n",
              "      <th>9</th>\n",
              "      <td>2004-03-11</td>\n",
              "      <td>03:00:00</td>\n",
              "      <td>0.6</td>\n",
              "      <td>0.540127</td>\n",
              "      <td>0.157667</td>\n",
              "      <td>1.696658</td>\n",
              "      <td>560.75</td>\n",
              "      <td>-200.0</td>\n",
              "      <td>1705.00</td>\n",
              "      <td>-200.0</td>\n",
              "      <td>1234.75</td>\n",
              "      <td>501.25</td>\n",
              "      <td>10.250</td>\n",
              "      <td>60.200001</td>\n",
              "      <td>0.751657</td>\n",
              "    </tr>\n",
              "  </tbody>\n",
              "</table>\n",
              "</div>\n",
              "      <button class=\"colab-df-convert\" onclick=\"convertToInteractive('df-75272fcb-93d2-4d60-966e-b34a0d202f0d')\"\n",
              "              title=\"Convert this dataframe to an interactive table.\"\n",
              "              style=\"display:none;\">\n",
              "        \n",
              "  <svg xmlns=\"http://www.w3.org/2000/svg\" height=\"24px\"viewBox=\"0 0 24 24\"\n",
              "       width=\"24px\">\n",
              "    <path d=\"M0 0h24v24H0V0z\" fill=\"none\"/>\n",
              "    <path d=\"M18.56 5.44l.94 2.06.94-2.06 2.06-.94-2.06-.94-.94-2.06-.94 2.06-2.06.94zm-11 1L8.5 8.5l.94-2.06 2.06-.94-2.06-.94L8.5 2.5l-.94 2.06-2.06.94zm10 10l.94 2.06.94-2.06 2.06-.94-2.06-.94-.94-2.06-.94 2.06-2.06.94z\"/><path d=\"M17.41 7.96l-1.37-1.37c-.4-.4-.92-.59-1.43-.59-.52 0-1.04.2-1.43.59L10.3 9.45l-7.72 7.72c-.78.78-.78 2.05 0 2.83L4 21.41c.39.39.9.59 1.41.59.51 0 1.02-.2 1.41-.59l7.78-7.78 2.81-2.81c.8-.78.8-2.07 0-2.86zM5.41 20L4 18.59l7.72-7.72 1.47 1.35L5.41 20z\"/>\n",
              "  </svg>\n",
              "      </button>\n",
              "      \n",
              "  <style>\n",
              "    .colab-df-container {\n",
              "      display:flex;\n",
              "      flex-wrap:wrap;\n",
              "      gap: 12px;\n",
              "    }\n",
              "\n",
              "    .colab-df-convert {\n",
              "      background-color: #E8F0FE;\n",
              "      border: none;\n",
              "      border-radius: 50%;\n",
              "      cursor: pointer;\n",
              "      display: none;\n",
              "      fill: #1967D2;\n",
              "      height: 32px;\n",
              "      padding: 0 0 0 0;\n",
              "      width: 32px;\n",
              "    }\n",
              "\n",
              "    .colab-df-convert:hover {\n",
              "      background-color: #E2EBFA;\n",
              "      box-shadow: 0px 1px 2px rgba(60, 64, 67, 0.3), 0px 1px 3px 1px rgba(60, 64, 67, 0.15);\n",
              "      fill: #174EA6;\n",
              "    }\n",
              "\n",
              "    [theme=dark] .colab-df-convert {\n",
              "      background-color: #3B4455;\n",
              "      fill: #D2E3FC;\n",
              "    }\n",
              "\n",
              "    [theme=dark] .colab-df-convert:hover {\n",
              "      background-color: #434B5C;\n",
              "      box-shadow: 0px 1px 3px 1px rgba(0, 0, 0, 0.15);\n",
              "      filter: drop-shadow(0px 1px 2px rgba(0, 0, 0, 0.3));\n",
              "      fill: #FFFFFF;\n",
              "    }\n",
              "  </style>\n",
              "\n",
              "      <script>\n",
              "        const buttonEl =\n",
              "          document.querySelector('#df-75272fcb-93d2-4d60-966e-b34a0d202f0d button.colab-df-convert');\n",
              "        buttonEl.style.display =\n",
              "          google.colab.kernel.accessAllowed ? 'block' : 'none';\n",
              "\n",
              "        async function convertToInteractive(key) {\n",
              "          const element = document.querySelector('#df-75272fcb-93d2-4d60-966e-b34a0d202f0d');\n",
              "          const dataTable =\n",
              "            await google.colab.kernel.invokeFunction('convertToInteractive',\n",
              "                                                     [key], {});\n",
              "          if (!dataTable) return;\n",
              "\n",
              "          const docLinkHtml = 'Like what you see? Visit the ' +\n",
              "            '<a target=\"_blank\" href=https://colab.research.google.com/notebooks/data_table.ipynb>data table notebook</a>'\n",
              "            + ' to learn more about interactive tables.';\n",
              "          element.innerHTML = '';\n",
              "          dataTable['output_type'] = 'display_data';\n",
              "          await google.colab.output.renderOutput(dataTable, element);\n",
              "          const docLink = document.createElement('div');\n",
              "          docLink.innerHTML = docLinkHtml;\n",
              "          element.appendChild(docLink);\n",
              "        }\n",
              "      </script>\n",
              "    </div>\n",
              "  </div>\n",
              "  "
            ]
          },
          "metadata": {},
          "execution_count": 7
        }
      ],
      "source": [
        "from sklearn.preprocessing import LabelEncoder,MinMaxScaler\n",
        "cols = list(df.columns)\n",
        "train_minmax = MinMaxScaler()\n",
        "df[['PT08.S1(CO)','NMHC(GT)']]=train_minmax.fit_transform(df[['PT08.S1(CO)','NMHC(GT)']])\n",
        "df = pd.DataFrame(df,columns =cols)\n",
        "df.head(10)"
      ]
    },
    {
      "cell_type": "code",
      "execution_count": 8,
      "metadata": {
        "colab": {
          "base_uri": "https://localhost:8080/",
          "height": 359
        },
        "id": "YnLxjKF5Ovw3",
        "outputId": "fc6a1801-d1f4-45cb-f282-c6553c27ec46"
      },
      "outputs": [
        {
          "output_type": "execute_result",
          "data": {
            "text/plain": [
              "        Date      Time  CO(GT)  PT08.S1(CO)  NMHC(GT)   C6H6(GT)  \\\n",
              "0 2004-03-10  18:00:00     2.6     0.696506  0.251980  11.881723   \n",
              "1 2004-03-10  19:00:00     2.0     0.666257  0.224622   9.397165   \n",
              "2 2004-03-10  20:00:00     2.2     0.715258  0.207343   8.997817   \n",
              "3 2004-03-10  21:00:00     2.2     0.703427  0.201584   9.228796   \n",
              "4 2004-03-10  22:00:00     1.6     0.657328  0.180706   6.518224   \n",
              "5 2004-03-10  23:00:00     1.2     0.623730  0.171346   4.741012   \n",
              "6 2004-03-11  00:00:00     1.2     0.618373  0.166307   3.624399   \n",
              "7 2004-03-11  01:00:00     1.0     0.596607  0.166307   3.326677   \n",
              "8 2004-03-11  02:00:00     0.9     0.577743  0.161267   2.339416   \n",
              "9 2004-03-11  03:00:00     0.6     0.540127  0.157667   1.696658   \n",
              "\n",
              "   PT08.S2(NMHC)  NOx(GT)  PT08.S3(NOx)  NO2(GT)  PT08.S4(NO2)  PT08.S5(O3)  \\\n",
              "0        1045.50    166.0       1056.25    113.0       1692.00      1267.50   \n",
              "1         954.75    103.0       1173.75     92.0       1558.75       972.25   \n",
              "2         939.25    131.0       1140.00    114.0       1554.50      1074.00   \n",
              "3         948.25    172.0       1092.00    122.0       1583.75      1203.25   \n",
              "4         835.50    131.0       1205.00    116.0       1490.00      1110.00   \n",
              "5         750.25     89.0       1336.50     96.0       1393.00       949.25   \n",
              "6         689.50     62.0       1461.75     77.0       1332.75       732.50   \n",
              "7         672.00     62.0       1453.25     76.0       1332.75       729.50   \n",
              "8         608.50     45.0       1579.00     60.0       1276.00       619.50   \n",
              "9         560.75   -200.0       1705.00   -200.0       1234.75       501.25   \n",
              "\n",
              "        T         RH    AH  \n",
              "0  13.600  48.875001  2438  \n",
              "1  13.300  47.700000  2176  \n",
              "2  11.900  53.975000  2371  \n",
              "3  11.000  60.000000  2655  \n",
              "4  11.150  59.575001  2671  \n",
              "5  11.175  59.175000  2638  \n",
              "6  11.325  56.775000  2456  \n",
              "7  10.675  60.000000  2520  \n",
              "8  10.650  59.674999  2489  \n",
              "9  10.250  60.200001  2385  "
            ],
            "text/html": [
              "\n",
              "  <div id=\"df-a36ce8c0-73b9-451b-b4f7-73ea5b36b393\">\n",
              "    <div class=\"colab-df-container\">\n",
              "      <div>\n",
              "<style scoped>\n",
              "    .dataframe tbody tr th:only-of-type {\n",
              "        vertical-align: middle;\n",
              "    }\n",
              "\n",
              "    .dataframe tbody tr th {\n",
              "        vertical-align: top;\n",
              "    }\n",
              "\n",
              "    .dataframe thead th {\n",
              "        text-align: right;\n",
              "    }\n",
              "</style>\n",
              "<table border=\"1\" class=\"dataframe\">\n",
              "  <thead>\n",
              "    <tr style=\"text-align: right;\">\n",
              "      <th></th>\n",
              "      <th>Date</th>\n",
              "      <th>Time</th>\n",
              "      <th>CO(GT)</th>\n",
              "      <th>PT08.S1(CO)</th>\n",
              "      <th>NMHC(GT)</th>\n",
              "      <th>C6H6(GT)</th>\n",
              "      <th>PT08.S2(NMHC)</th>\n",
              "      <th>NOx(GT)</th>\n",
              "      <th>PT08.S3(NOx)</th>\n",
              "      <th>NO2(GT)</th>\n",
              "      <th>PT08.S4(NO2)</th>\n",
              "      <th>PT08.S5(O3)</th>\n",
              "      <th>T</th>\n",
              "      <th>RH</th>\n",
              "      <th>AH</th>\n",
              "    </tr>\n",
              "  </thead>\n",
              "  <tbody>\n",
              "    <tr>\n",
              "      <th>0</th>\n",
              "      <td>2004-03-10</td>\n",
              "      <td>18:00:00</td>\n",
              "      <td>2.6</td>\n",
              "      <td>0.696506</td>\n",
              "      <td>0.251980</td>\n",
              "      <td>11.881723</td>\n",
              "      <td>1045.50</td>\n",
              "      <td>166.0</td>\n",
              "      <td>1056.25</td>\n",
              "      <td>113.0</td>\n",
              "      <td>1692.00</td>\n",
              "      <td>1267.50</td>\n",
              "      <td>13.600</td>\n",
              "      <td>48.875001</td>\n",
              "      <td>2438</td>\n",
              "    </tr>\n",
              "    <tr>\n",
              "      <th>1</th>\n",
              "      <td>2004-03-10</td>\n",
              "      <td>19:00:00</td>\n",
              "      <td>2.0</td>\n",
              "      <td>0.666257</td>\n",
              "      <td>0.224622</td>\n",
              "      <td>9.397165</td>\n",
              "      <td>954.75</td>\n",
              "      <td>103.0</td>\n",
              "      <td>1173.75</td>\n",
              "      <td>92.0</td>\n",
              "      <td>1558.75</td>\n",
              "      <td>972.25</td>\n",
              "      <td>13.300</td>\n",
              "      <td>47.700000</td>\n",
              "      <td>2176</td>\n",
              "    </tr>\n",
              "    <tr>\n",
              "      <th>2</th>\n",
              "      <td>2004-03-10</td>\n",
              "      <td>20:00:00</td>\n",
              "      <td>2.2</td>\n",
              "      <td>0.715258</td>\n",
              "      <td>0.207343</td>\n",
              "      <td>8.997817</td>\n",
              "      <td>939.25</td>\n",
              "      <td>131.0</td>\n",
              "      <td>1140.00</td>\n",
              "      <td>114.0</td>\n",
              "      <td>1554.50</td>\n",
              "      <td>1074.00</td>\n",
              "      <td>11.900</td>\n",
              "      <td>53.975000</td>\n",
              "      <td>2371</td>\n",
              "    </tr>\n",
              "    <tr>\n",
              "      <th>3</th>\n",
              "      <td>2004-03-10</td>\n",
              "      <td>21:00:00</td>\n",
              "      <td>2.2</td>\n",
              "      <td>0.703427</td>\n",
              "      <td>0.201584</td>\n",
              "      <td>9.228796</td>\n",
              "      <td>948.25</td>\n",
              "      <td>172.0</td>\n",
              "      <td>1092.00</td>\n",
              "      <td>122.0</td>\n",
              "      <td>1583.75</td>\n",
              "      <td>1203.25</td>\n",
              "      <td>11.000</td>\n",
              "      <td>60.000000</td>\n",
              "      <td>2655</td>\n",
              "    </tr>\n",
              "    <tr>\n",
              "      <th>4</th>\n",
              "      <td>2004-03-10</td>\n",
              "      <td>22:00:00</td>\n",
              "      <td>1.6</td>\n",
              "      <td>0.657328</td>\n",
              "      <td>0.180706</td>\n",
              "      <td>6.518224</td>\n",
              "      <td>835.50</td>\n",
              "      <td>131.0</td>\n",
              "      <td>1205.00</td>\n",
              "      <td>116.0</td>\n",
              "      <td>1490.00</td>\n",
              "      <td>1110.00</td>\n",
              "      <td>11.150</td>\n",
              "      <td>59.575001</td>\n",
              "      <td>2671</td>\n",
              "    </tr>\n",
              "    <tr>\n",
              "      <th>5</th>\n",
              "      <td>2004-03-10</td>\n",
              "      <td>23:00:00</td>\n",
              "      <td>1.2</td>\n",
              "      <td>0.623730</td>\n",
              "      <td>0.171346</td>\n",
              "      <td>4.741012</td>\n",
              "      <td>750.25</td>\n",
              "      <td>89.0</td>\n",
              "      <td>1336.50</td>\n",
              "      <td>96.0</td>\n",
              "      <td>1393.00</td>\n",
              "      <td>949.25</td>\n",
              "      <td>11.175</td>\n",
              "      <td>59.175000</td>\n",
              "      <td>2638</td>\n",
              "    </tr>\n",
              "    <tr>\n",
              "      <th>6</th>\n",
              "      <td>2004-03-11</td>\n",
              "      <td>00:00:00</td>\n",
              "      <td>1.2</td>\n",
              "      <td>0.618373</td>\n",
              "      <td>0.166307</td>\n",
              "      <td>3.624399</td>\n",
              "      <td>689.50</td>\n",
              "      <td>62.0</td>\n",
              "      <td>1461.75</td>\n",
              "      <td>77.0</td>\n",
              "      <td>1332.75</td>\n",
              "      <td>732.50</td>\n",
              "      <td>11.325</td>\n",
              "      <td>56.775000</td>\n",
              "      <td>2456</td>\n",
              "    </tr>\n",
              "    <tr>\n",
              "      <th>7</th>\n",
              "      <td>2004-03-11</td>\n",
              "      <td>01:00:00</td>\n",
              "      <td>1.0</td>\n",
              "      <td>0.596607</td>\n",
              "      <td>0.166307</td>\n",
              "      <td>3.326677</td>\n",
              "      <td>672.00</td>\n",
              "      <td>62.0</td>\n",
              "      <td>1453.25</td>\n",
              "      <td>76.0</td>\n",
              "      <td>1332.75</td>\n",
              "      <td>729.50</td>\n",
              "      <td>10.675</td>\n",
              "      <td>60.000000</td>\n",
              "      <td>2520</td>\n",
              "    </tr>\n",
              "    <tr>\n",
              "      <th>8</th>\n",
              "      <td>2004-03-11</td>\n",
              "      <td>02:00:00</td>\n",
              "      <td>0.9</td>\n",
              "      <td>0.577743</td>\n",
              "      <td>0.161267</td>\n",
              "      <td>2.339416</td>\n",
              "      <td>608.50</td>\n",
              "      <td>45.0</td>\n",
              "      <td>1579.00</td>\n",
              "      <td>60.0</td>\n",
              "      <td>1276.00</td>\n",
              "      <td>619.50</td>\n",
              "      <td>10.650</td>\n",
              "      <td>59.674999</td>\n",
              "      <td>2489</td>\n",
              "    </tr>\n",
              "    <tr>\n",
              "      <th>9</th>\n",
              "      <td>2004-03-11</td>\n",
              "      <td>03:00:00</td>\n",
              "      <td>0.6</td>\n",
              "      <td>0.540127</td>\n",
              "      <td>0.157667</td>\n",
              "      <td>1.696658</td>\n",
              "      <td>560.75</td>\n",
              "      <td>-200.0</td>\n",
              "      <td>1705.00</td>\n",
              "      <td>-200.0</td>\n",
              "      <td>1234.75</td>\n",
              "      <td>501.25</td>\n",
              "      <td>10.250</td>\n",
              "      <td>60.200001</td>\n",
              "      <td>2385</td>\n",
              "    </tr>\n",
              "  </tbody>\n",
              "</table>\n",
              "</div>\n",
              "      <button class=\"colab-df-convert\" onclick=\"convertToInteractive('df-a36ce8c0-73b9-451b-b4f7-73ea5b36b393')\"\n",
              "              title=\"Convert this dataframe to an interactive table.\"\n",
              "              style=\"display:none;\">\n",
              "        \n",
              "  <svg xmlns=\"http://www.w3.org/2000/svg\" height=\"24px\"viewBox=\"0 0 24 24\"\n",
              "       width=\"24px\">\n",
              "    <path d=\"M0 0h24v24H0V0z\" fill=\"none\"/>\n",
              "    <path d=\"M18.56 5.44l.94 2.06.94-2.06 2.06-.94-2.06-.94-.94-2.06-.94 2.06-2.06.94zm-11 1L8.5 8.5l.94-2.06 2.06-.94-2.06-.94L8.5 2.5l-.94 2.06-2.06.94zm10 10l.94 2.06.94-2.06 2.06-.94-2.06-.94-.94-2.06-.94 2.06-2.06.94z\"/><path d=\"M17.41 7.96l-1.37-1.37c-.4-.4-.92-.59-1.43-.59-.52 0-1.04.2-1.43.59L10.3 9.45l-7.72 7.72c-.78.78-.78 2.05 0 2.83L4 21.41c.39.39.9.59 1.41.59.51 0 1.02-.2 1.41-.59l7.78-7.78 2.81-2.81c.8-.78.8-2.07 0-2.86zM5.41 20L4 18.59l7.72-7.72 1.47 1.35L5.41 20z\"/>\n",
              "  </svg>\n",
              "      </button>\n",
              "      \n",
              "  <style>\n",
              "    .colab-df-container {\n",
              "      display:flex;\n",
              "      flex-wrap:wrap;\n",
              "      gap: 12px;\n",
              "    }\n",
              "\n",
              "    .colab-df-convert {\n",
              "      background-color: #E8F0FE;\n",
              "      border: none;\n",
              "      border-radius: 50%;\n",
              "      cursor: pointer;\n",
              "      display: none;\n",
              "      fill: #1967D2;\n",
              "      height: 32px;\n",
              "      padding: 0 0 0 0;\n",
              "      width: 32px;\n",
              "    }\n",
              "\n",
              "    .colab-df-convert:hover {\n",
              "      background-color: #E2EBFA;\n",
              "      box-shadow: 0px 1px 2px rgba(60, 64, 67, 0.3), 0px 1px 3px 1px rgba(60, 64, 67, 0.15);\n",
              "      fill: #174EA6;\n",
              "    }\n",
              "\n",
              "    [theme=dark] .colab-df-convert {\n",
              "      background-color: #3B4455;\n",
              "      fill: #D2E3FC;\n",
              "    }\n",
              "\n",
              "    [theme=dark] .colab-df-convert:hover {\n",
              "      background-color: #434B5C;\n",
              "      box-shadow: 0px 1px 3px 1px rgba(0, 0, 0, 0.15);\n",
              "      filter: drop-shadow(0px 1px 2px rgba(0, 0, 0, 0.3));\n",
              "      fill: #FFFFFF;\n",
              "    }\n",
              "  </style>\n",
              "\n",
              "      <script>\n",
              "        const buttonEl =\n",
              "          document.querySelector('#df-a36ce8c0-73b9-451b-b4f7-73ea5b36b393 button.colab-df-convert');\n",
              "        buttonEl.style.display =\n",
              "          google.colab.kernel.accessAllowed ? 'block' : 'none';\n",
              "\n",
              "        async function convertToInteractive(key) {\n",
              "          const element = document.querySelector('#df-a36ce8c0-73b9-451b-b4f7-73ea5b36b393');\n",
              "          const dataTable =\n",
              "            await google.colab.kernel.invokeFunction('convertToInteractive',\n",
              "                                                     [key], {});\n",
              "          if (!dataTable) return;\n",
              "\n",
              "          const docLinkHtml = 'Like what you see? Visit the ' +\n",
              "            '<a target=\"_blank\" href=https://colab.research.google.com/notebooks/data_table.ipynb>data table notebook</a>'\n",
              "            + ' to learn more about interactive tables.';\n",
              "          element.innerHTML = '';\n",
              "          dataTable['output_type'] = 'display_data';\n",
              "          await google.colab.output.renderOutput(dataTable, element);\n",
              "          const docLink = document.createElement('div');\n",
              "          docLink.innerHTML = docLinkHtml;\n",
              "          element.appendChild(docLink);\n",
              "        }\n",
              "      </script>\n",
              "    </div>\n",
              "  </div>\n",
              "  "
            ]
          },
          "metadata": {},
          "execution_count": 8
        }
      ],
      "source": [
        "labelencoder = LabelEncoder()\n",
        "df['AH']=labelencoder.fit_transform(df['AH'])\n",
        "df.columns = cols\n",
        "df.head(10)"
      ]
    },
    {
      "cell_type": "code",
      "execution_count": 9,
      "metadata": {
        "colab": {
          "base_uri": "https://localhost:8080/"
        },
        "id": "bKHWeeD7Ovw4",
        "outputId": "7fe8467a-d6dc-4bc1-8c14-3dee1140d018"
      },
      "outputs": [
        {
          "output_type": "stream",
          "name": "stdout",
          "text": [
            "['CO(GT)', 'PT08.S1(CO)', 'NMHC(GT)', 'C6H6(GT)', 'PT08.S2(NMHC)', 'NOx(GT)', 'PT08.S3(NOx)', 'NO2(GT)', 'PT08.S4(NO2)', 'PT08.S5(O3)', 'T', 'RH', 'AH']\n"
          ]
        }
      ],
      "source": [
        "cols.remove('Date')\n",
        "cols.remove('Time')\n",
        "print(cols)\n",
        "x_train, y_train = df[cols].values, df['AH'].values\n",
        "x_train,x_test,y_train,y_test=train_test_split(x_train,y_train,test_size=0.2,random_state=42)"
      ]
    },
    {
      "cell_type": "code",
      "execution_count": 10,
      "metadata": {
        "colab": {
          "base_uri": "https://localhost:8080/"
        },
        "id": "KCApEVxFOvw5",
        "outputId": "e8135b9e-af60-42e6-c2f9-29a66e299543"
      },
      "outputs": [
        {
          "output_type": "stream",
          "name": "stdout",
          "text": [
            "(7485, 13)\n",
            "(7485,)\n",
            "(1872, 13)\n",
            "(1872,)\n",
            "[[ 3.40000000e+00  0.00000000e+00  0.00000000e+00 ... -2.00000000e+02\n",
            "  -2.00000000e+02  0.00000000e+00]\n",
            " [ 1.20000000e+00  5.19589240e-01  1.92944564e-01 ...  1.05750000e+01\n",
            "   5.77250004e+01  2.24100000e+03]\n",
            " [ 1.20000000e+00  4.93247014e-01  0.00000000e+00 ...  6.77500010e+00\n",
            "   4.10499992e+01  4.88000000e+02]\n",
            " ...\n",
            " [ 3.60000000e+00  7.32336198e-01  0.00000000e+00 ...  2.26249995e+01\n",
            "   6.13999996e+01  8.36900000e+03]\n",
            " [ 4.00000000e+00  7.22178815e-01  5.34197264e-01 ...  1.91500001e+01\n",
            "   3.56500006e+01  2.62100000e+03]\n",
            " [ 3.80000000e+00  7.28429512e-01  0.00000000e+00 ...  1.33000000e+01\n",
            "   5.62000008e+01  3.17100000e+03]]\n"
          ]
        }
      ],
      "source": [
        "\n",
        "print(x_train.shape)\n",
        "print(y_train.shape)\n",
        "print(x_test.shape)\n",
        "print(y_test.shape)\n",
        "print(x_train)"
      ]
    },
    {
      "cell_type": "code",
      "execution_count": 11,
      "metadata": {
        "id": "cGqSdXtzOvw5"
      },
      "outputs": [],
      "source": [
        "def mape_loss_func(labels,preds):\n",
        "    mask=labels!=0\n",
        "    return np.fabs((preds[mask]-labels[mask])/labels[mask]).mean()"
      ]
    },
    {
      "cell_type": "code",
      "execution_count": 12,
      "metadata": {
        "id": "rGRwCrVmOvw6"
      },
      "outputs": [],
      "source": [
        "def mape(y_true, y_pred):\n",
        "    return np.mean(np.abs((y_pred - y_true) / y_true)) * 100"
      ]
    },
    {
      "cell_type": "code",
      "execution_count": 13,
      "metadata": {
        "colab": {
          "base_uri": "https://localhost:8080/"
        },
        "id": "jmuzWxu6Ovw6",
        "outputId": "7cd33ba6-b7fb-4ead-e47e-0dffb16d7b4e"
      },
      "outputs": [
        {
          "output_type": "stream",
          "name": "stdout",
          "text": [
            "MAPE : 0.0007619\n",
            "RMSE : 1.108\n"
          ]
        }
      ],
      "source": [
        "from sklearn.metrics import r2_score, mean_squared_error, mean_absolute_error, mean_absolute_percentage_error\n",
        "from sklearn.ensemble import RandomForestRegressor\n",
        "import sklearn.metrics as metrics\n",
        "clf=RandomForestRegressor(n_estimators = 52,random_state=42)       \n",
        "clf.fit(x_train,y_train)                        \n",
        "predict=clf.predict(x_test)            \n",
        "\n",
        "print(\"MAPE : %.4g\" % mean_absolute_percentage_error(y_test, predict))\n",
        "print(\"RMSE : %.4g\" % metrics.mean_squared_error(y_test, predict,squared=False))"
      ]
    },
    {
      "cell_type": "code",
      "execution_count": 14,
      "metadata": {
        "id": "L2qEtXC6Ovw7"
      },
      "outputs": [],
      "source": [
        "from sklearn import tree\n",
        "from sklearn import datasets\n",
        "import pydotplus"
      ]
    },
    {
      "cell_type": "code",
      "execution_count": 1,
      "metadata": {
        "id": "CfmcbsKeOvw7",
        "colab": {
          "base_uri": "https://localhost:8080/",
          "height": 164
        },
        "outputId": "378ba41e-f4a0-4995-b83f-175082100b73"
      },
      "outputs": [
        {
          "output_type": "error",
          "ename": "NameError",
          "evalue": "ignored",
          "traceback": [
            "\u001b[0;31m---------------------------------------------------------------------------\u001b[0m",
            "\u001b[0;31mNameError\u001b[0m                                 Traceback (most recent call last)",
            "\u001b[0;32m<ipython-input-1-66dce76bdb81>\u001b[0m in \u001b[0;36m<module>\u001b[0;34m\u001b[0m\n\u001b[0;32m----> 1\u001b[0;31m \u001b[0mAirQuality\u001b[0m\u001b[0;34m=\u001b[0m\u001b[0mdatasets\u001b[0m\u001b[0;34m.\u001b[0m\u001b[0mload_iris\u001b[0m\u001b[0;34m(\u001b[0m\u001b[0;34m)\u001b[0m\u001b[0;34m\u001b[0m\u001b[0;34m\u001b[0m\u001b[0m\n\u001b[0m",
            "\u001b[0;31mNameError\u001b[0m: name 'datasets' is not defined"
          ]
        }
      ],
      "source": [
        "iris=datasets.load_iris()"
      ]
    },
    {
      "cell_type": "code",
      "execution_count": 16,
      "metadata": {
        "colab": {
          "base_uri": "https://localhost:8080/"
        },
        "id": "Rxt9bxtFOvw8",
        "outputId": "8269f20a-50f3-43fb-d065-54fc3c354b41"
      },
      "outputs": [
        {
          "output_type": "execute_result",
          "data": {
            "text/plain": [
              "{'data': array([[5.1, 3.5, 1.4, 0.2],\n",
              "        [4.9, 3. , 1.4, 0.2],\n",
              "        [4.7, 3.2, 1.3, 0.2],\n",
              "        [4.6, 3.1, 1.5, 0.2],\n",
              "        [5. , 3.6, 1.4, 0.2],\n",
              "        [5.4, 3.9, 1.7, 0.4],\n",
              "        [4.6, 3.4, 1.4, 0.3],\n",
              "        [5. , 3.4, 1.5, 0.2],\n",
              "        [4.4, 2.9, 1.4, 0.2],\n",
              "        [4.9, 3.1, 1.5, 0.1],\n",
              "        [5.4, 3.7, 1.5, 0.2],\n",
              "        [4.8, 3.4, 1.6, 0.2],\n",
              "        [4.8, 3. , 1.4, 0.1],\n",
              "        [4.3, 3. , 1.1, 0.1],\n",
              "        [5.8, 4. , 1.2, 0.2],\n",
              "        [5.7, 4.4, 1.5, 0.4],\n",
              "        [5.4, 3.9, 1.3, 0.4],\n",
              "        [5.1, 3.5, 1.4, 0.3],\n",
              "        [5.7, 3.8, 1.7, 0.3],\n",
              "        [5.1, 3.8, 1.5, 0.3],\n",
              "        [5.4, 3.4, 1.7, 0.2],\n",
              "        [5.1, 3.7, 1.5, 0.4],\n",
              "        [4.6, 3.6, 1. , 0.2],\n",
              "        [5.1, 3.3, 1.7, 0.5],\n",
              "        [4.8, 3.4, 1.9, 0.2],\n",
              "        [5. , 3. , 1.6, 0.2],\n",
              "        [5. , 3.4, 1.6, 0.4],\n",
              "        [5.2, 3.5, 1.5, 0.2],\n",
              "        [5.2, 3.4, 1.4, 0.2],\n",
              "        [4.7, 3.2, 1.6, 0.2],\n",
              "        [4.8, 3.1, 1.6, 0.2],\n",
              "        [5.4, 3.4, 1.5, 0.4],\n",
              "        [5.2, 4.1, 1.5, 0.1],\n",
              "        [5.5, 4.2, 1.4, 0.2],\n",
              "        [4.9, 3.1, 1.5, 0.2],\n",
              "        [5. , 3.2, 1.2, 0.2],\n",
              "        [5.5, 3.5, 1.3, 0.2],\n",
              "        [4.9, 3.6, 1.4, 0.1],\n",
              "        [4.4, 3. , 1.3, 0.2],\n",
              "        [5.1, 3.4, 1.5, 0.2],\n",
              "        [5. , 3.5, 1.3, 0.3],\n",
              "        [4.5, 2.3, 1.3, 0.3],\n",
              "        [4.4, 3.2, 1.3, 0.2],\n",
              "        [5. , 3.5, 1.6, 0.6],\n",
              "        [5.1, 3.8, 1.9, 0.4],\n",
              "        [4.8, 3. , 1.4, 0.3],\n",
              "        [5.1, 3.8, 1.6, 0.2],\n",
              "        [4.6, 3.2, 1.4, 0.2],\n",
              "        [5.3, 3.7, 1.5, 0.2],\n",
              "        [5. , 3.3, 1.4, 0.2],\n",
              "        [7. , 3.2, 4.7, 1.4],\n",
              "        [6.4, 3.2, 4.5, 1.5],\n",
              "        [6.9, 3.1, 4.9, 1.5],\n",
              "        [5.5, 2.3, 4. , 1.3],\n",
              "        [6.5, 2.8, 4.6, 1.5],\n",
              "        [5.7, 2.8, 4.5, 1.3],\n",
              "        [6.3, 3.3, 4.7, 1.6],\n",
              "        [4.9, 2.4, 3.3, 1. ],\n",
              "        [6.6, 2.9, 4.6, 1.3],\n",
              "        [5.2, 2.7, 3.9, 1.4],\n",
              "        [5. , 2. , 3.5, 1. ],\n",
              "        [5.9, 3. , 4.2, 1.5],\n",
              "        [6. , 2.2, 4. , 1. ],\n",
              "        [6.1, 2.9, 4.7, 1.4],\n",
              "        [5.6, 2.9, 3.6, 1.3],\n",
              "        [6.7, 3.1, 4.4, 1.4],\n",
              "        [5.6, 3. , 4.5, 1.5],\n",
              "        [5.8, 2.7, 4.1, 1. ],\n",
              "        [6.2, 2.2, 4.5, 1.5],\n",
              "        [5.6, 2.5, 3.9, 1.1],\n",
              "        [5.9, 3.2, 4.8, 1.8],\n",
              "        [6.1, 2.8, 4. , 1.3],\n",
              "        [6.3, 2.5, 4.9, 1.5],\n",
              "        [6.1, 2.8, 4.7, 1.2],\n",
              "        [6.4, 2.9, 4.3, 1.3],\n",
              "        [6.6, 3. , 4.4, 1.4],\n",
              "        [6.8, 2.8, 4.8, 1.4],\n",
              "        [6.7, 3. , 5. , 1.7],\n",
              "        [6. , 2.9, 4.5, 1.5],\n",
              "        [5.7, 2.6, 3.5, 1. ],\n",
              "        [5.5, 2.4, 3.8, 1.1],\n",
              "        [5.5, 2.4, 3.7, 1. ],\n",
              "        [5.8, 2.7, 3.9, 1.2],\n",
              "        [6. , 2.7, 5.1, 1.6],\n",
              "        [5.4, 3. , 4.5, 1.5],\n",
              "        [6. , 3.4, 4.5, 1.6],\n",
              "        [6.7, 3.1, 4.7, 1.5],\n",
              "        [6.3, 2.3, 4.4, 1.3],\n",
              "        [5.6, 3. , 4.1, 1.3],\n",
              "        [5.5, 2.5, 4. , 1.3],\n",
              "        [5.5, 2.6, 4.4, 1.2],\n",
              "        [6.1, 3. , 4.6, 1.4],\n",
              "        [5.8, 2.6, 4. , 1.2],\n",
              "        [5. , 2.3, 3.3, 1. ],\n",
              "        [5.6, 2.7, 4.2, 1.3],\n",
              "        [5.7, 3. , 4.2, 1.2],\n",
              "        [5.7, 2.9, 4.2, 1.3],\n",
              "        [6.2, 2.9, 4.3, 1.3],\n",
              "        [5.1, 2.5, 3. , 1.1],\n",
              "        [5.7, 2.8, 4.1, 1.3],\n",
              "        [6.3, 3.3, 6. , 2.5],\n",
              "        [5.8, 2.7, 5.1, 1.9],\n",
              "        [7.1, 3. , 5.9, 2.1],\n",
              "        [6.3, 2.9, 5.6, 1.8],\n",
              "        [6.5, 3. , 5.8, 2.2],\n",
              "        [7.6, 3. , 6.6, 2.1],\n",
              "        [4.9, 2.5, 4.5, 1.7],\n",
              "        [7.3, 2.9, 6.3, 1.8],\n",
              "        [6.7, 2.5, 5.8, 1.8],\n",
              "        [7.2, 3.6, 6.1, 2.5],\n",
              "        [6.5, 3.2, 5.1, 2. ],\n",
              "        [6.4, 2.7, 5.3, 1.9],\n",
              "        [6.8, 3. , 5.5, 2.1],\n",
              "        [5.7, 2.5, 5. , 2. ],\n",
              "        [5.8, 2.8, 5.1, 2.4],\n",
              "        [6.4, 3.2, 5.3, 2.3],\n",
              "        [6.5, 3. , 5.5, 1.8],\n",
              "        [7.7, 3.8, 6.7, 2.2],\n",
              "        [7.7, 2.6, 6.9, 2.3],\n",
              "        [6. , 2.2, 5. , 1.5],\n",
              "        [6.9, 3.2, 5.7, 2.3],\n",
              "        [5.6, 2.8, 4.9, 2. ],\n",
              "        [7.7, 2.8, 6.7, 2. ],\n",
              "        [6.3, 2.7, 4.9, 1.8],\n",
              "        [6.7, 3.3, 5.7, 2.1],\n",
              "        [7.2, 3.2, 6. , 1.8],\n",
              "        [6.2, 2.8, 4.8, 1.8],\n",
              "        [6.1, 3. , 4.9, 1.8],\n",
              "        [6.4, 2.8, 5.6, 2.1],\n",
              "        [7.2, 3. , 5.8, 1.6],\n",
              "        [7.4, 2.8, 6.1, 1.9],\n",
              "        [7.9, 3.8, 6.4, 2. ],\n",
              "        [6.4, 2.8, 5.6, 2.2],\n",
              "        [6.3, 2.8, 5.1, 1.5],\n",
              "        [6.1, 2.6, 5.6, 1.4],\n",
              "        [7.7, 3. , 6.1, 2.3],\n",
              "        [6.3, 3.4, 5.6, 2.4],\n",
              "        [6.4, 3.1, 5.5, 1.8],\n",
              "        [6. , 3. , 4.8, 1.8],\n",
              "        [6.9, 3.1, 5.4, 2.1],\n",
              "        [6.7, 3.1, 5.6, 2.4],\n",
              "        [6.9, 3.1, 5.1, 2.3],\n",
              "        [5.8, 2.7, 5.1, 1.9],\n",
              "        [6.8, 3.2, 5.9, 2.3],\n",
              "        [6.7, 3.3, 5.7, 2.5],\n",
              "        [6.7, 3. , 5.2, 2.3],\n",
              "        [6.3, 2.5, 5. , 1.9],\n",
              "        [6.5, 3. , 5.2, 2. ],\n",
              "        [6.2, 3.4, 5.4, 2.3],\n",
              "        [5.9, 3. , 5.1, 1.8]]),\n",
              " 'target': array([0, 0, 0, 0, 0, 0, 0, 0, 0, 0, 0, 0, 0, 0, 0, 0, 0, 0, 0, 0, 0, 0,\n",
              "        0, 0, 0, 0, 0, 0, 0, 0, 0, 0, 0, 0, 0, 0, 0, 0, 0, 0, 0, 0, 0, 0,\n",
              "        0, 0, 0, 0, 0, 0, 1, 1, 1, 1, 1, 1, 1, 1, 1, 1, 1, 1, 1, 1, 1, 1,\n",
              "        1, 1, 1, 1, 1, 1, 1, 1, 1, 1, 1, 1, 1, 1, 1, 1, 1, 1, 1, 1, 1, 1,\n",
              "        1, 1, 1, 1, 1, 1, 1, 1, 1, 1, 1, 1, 2, 2, 2, 2, 2, 2, 2, 2, 2, 2,\n",
              "        2, 2, 2, 2, 2, 2, 2, 2, 2, 2, 2, 2, 2, 2, 2, 2, 2, 2, 2, 2, 2, 2,\n",
              "        2, 2, 2, 2, 2, 2, 2, 2, 2, 2, 2, 2, 2, 2, 2, 2, 2, 2]),\n",
              " 'frame': None,\n",
              " 'target_names': array(['setosa', 'versicolor', 'virginica'], dtype='<U10'),\n",
              " 'DESCR': '.. _iris_dataset:\\n\\nIris plants dataset\\n--------------------\\n\\n**Data Set Characteristics:**\\n\\n    :Number of Instances: 150 (50 in each of three classes)\\n    :Number of Attributes: 4 numeric, predictive attributes and the class\\n    :Attribute Information:\\n        - sepal length in cm\\n        - sepal width in cm\\n        - petal length in cm\\n        - petal width in cm\\n        - class:\\n                - Iris-Setosa\\n                - Iris-Versicolour\\n                - Iris-Virginica\\n                \\n    :Summary Statistics:\\n\\n    ============== ==== ==== ======= ===== ====================\\n                    Min  Max   Mean    SD   Class Correlation\\n    ============== ==== ==== ======= ===== ====================\\n    sepal length:   4.3  7.9   5.84   0.83    0.7826\\n    sepal width:    2.0  4.4   3.05   0.43   -0.4194\\n    petal length:   1.0  6.9   3.76   1.76    0.9490  (high!)\\n    petal width:    0.1  2.5   1.20   0.76    0.9565  (high!)\\n    ============== ==== ==== ======= ===== ====================\\n\\n    :Missing Attribute Values: None\\n    :Class Distribution: 33.3% for each of 3 classes.\\n    :Creator: R.A. Fisher\\n    :Donor: Michael Marshall (MARSHALL%PLU@io.arc.nasa.gov)\\n    :Date: July, 1988\\n\\nThe famous Iris database, first used by Sir R.A. Fisher. The dataset is taken\\nfrom Fisher\\'s paper. Note that it\\'s the same as in R, but not as in the UCI\\nMachine Learning Repository, which has two wrong data points.\\n\\nThis is perhaps the best known database to be found in the\\npattern recognition literature.  Fisher\\'s paper is a classic in the field and\\nis referenced frequently to this day.  (See Duda & Hart, for example.)  The\\ndata set contains 3 classes of 50 instances each, where each class refers to a\\ntype of iris plant.  One class is linearly separable from the other 2; the\\nlatter are NOT linearly separable from each other.\\n\\n.. topic:: References\\n\\n   - Fisher, R.A. \"The use of multiple measurements in taxonomic problems\"\\n     Annual Eugenics, 7, Part II, 179-188 (1936); also in \"Contributions to\\n     Mathematical Statistics\" (John Wiley, NY, 1950).\\n   - Duda, R.O., & Hart, P.E. (1973) Pattern Classification and Scene Analysis.\\n     (Q327.D83) John Wiley & Sons.  ISBN 0-471-22361-1.  See page 218.\\n   - Dasarathy, B.V. (1980) \"Nosing Around the Neighborhood: A New System\\n     Structure and Classification Rule for Recognition in Partially Exposed\\n     Environments\".  IEEE Transactions on Pattern Analysis and Machine\\n     Intelligence, Vol. PAMI-2, No. 1, 67-71.\\n   - Gates, G.W. (1972) \"The Reduced Nearest Neighbor Rule\".  IEEE Transactions\\n     on Information Theory, May 1972, 431-433.\\n   - See also: 1988 MLC Proceedings, 54-64.  Cheeseman et al\"s AUTOCLASS II\\n     conceptual clustering system finds 3 classes in the data.\\n   - Many, many more ...',\n",
              " 'feature_names': ['sepal length (cm)',\n",
              "  'sepal width (cm)',\n",
              "  'petal length (cm)',\n",
              "  'petal width (cm)'],\n",
              " 'filename': 'iris.csv',\n",
              " 'data_module': 'sklearn.datasets.data'}"
            ]
          },
          "metadata": {},
          "execution_count": 16
        }
      ],
      "source": [
        "iris"
      ]
    },
    {
      "cell_type": "code",
      "execution_count": 17,
      "metadata": {
        "id": "u4WXVVL3Ovw8"
      },
      "outputs": [],
      "source": [
        "X=iris.data\n",
        "y=iris.target"
      ]
    },
    {
      "cell_type": "code",
      "execution_count": 18,
      "metadata": {
        "colab": {
          "base_uri": "https://localhost:8080/"
        },
        "id": "T1zz2axfOvw9",
        "outputId": "d53d604d-c4fd-4c24-9e6f-bd147ec88712"
      },
      "outputs": [
        {
          "output_type": "execute_result",
          "data": {
            "text/plain": [
              "array([[5.1, 3.5, 1.4, 0.2],\n",
              "       [4.9, 3. , 1.4, 0.2],\n",
              "       [4.7, 3.2, 1.3, 0.2],\n",
              "       [4.6, 3.1, 1.5, 0.2],\n",
              "       [5. , 3.6, 1.4, 0.2],\n",
              "       [5.4, 3.9, 1.7, 0.4],\n",
              "       [4.6, 3.4, 1.4, 0.3],\n",
              "       [5. , 3.4, 1.5, 0.2],\n",
              "       [4.4, 2.9, 1.4, 0.2],\n",
              "       [4.9, 3.1, 1.5, 0.1],\n",
              "       [5.4, 3.7, 1.5, 0.2],\n",
              "       [4.8, 3.4, 1.6, 0.2],\n",
              "       [4.8, 3. , 1.4, 0.1],\n",
              "       [4.3, 3. , 1.1, 0.1],\n",
              "       [5.8, 4. , 1.2, 0.2],\n",
              "       [5.7, 4.4, 1.5, 0.4],\n",
              "       [5.4, 3.9, 1.3, 0.4],\n",
              "       [5.1, 3.5, 1.4, 0.3],\n",
              "       [5.7, 3.8, 1.7, 0.3],\n",
              "       [5.1, 3.8, 1.5, 0.3],\n",
              "       [5.4, 3.4, 1.7, 0.2],\n",
              "       [5.1, 3.7, 1.5, 0.4],\n",
              "       [4.6, 3.6, 1. , 0.2],\n",
              "       [5.1, 3.3, 1.7, 0.5],\n",
              "       [4.8, 3.4, 1.9, 0.2],\n",
              "       [5. , 3. , 1.6, 0.2],\n",
              "       [5. , 3.4, 1.6, 0.4],\n",
              "       [5.2, 3.5, 1.5, 0.2],\n",
              "       [5.2, 3.4, 1.4, 0.2],\n",
              "       [4.7, 3.2, 1.6, 0.2],\n",
              "       [4.8, 3.1, 1.6, 0.2],\n",
              "       [5.4, 3.4, 1.5, 0.4],\n",
              "       [5.2, 4.1, 1.5, 0.1],\n",
              "       [5.5, 4.2, 1.4, 0.2],\n",
              "       [4.9, 3.1, 1.5, 0.2],\n",
              "       [5. , 3.2, 1.2, 0.2],\n",
              "       [5.5, 3.5, 1.3, 0.2],\n",
              "       [4.9, 3.6, 1.4, 0.1],\n",
              "       [4.4, 3. , 1.3, 0.2],\n",
              "       [5.1, 3.4, 1.5, 0.2],\n",
              "       [5. , 3.5, 1.3, 0.3],\n",
              "       [4.5, 2.3, 1.3, 0.3],\n",
              "       [4.4, 3.2, 1.3, 0.2],\n",
              "       [5. , 3.5, 1.6, 0.6],\n",
              "       [5.1, 3.8, 1.9, 0.4],\n",
              "       [4.8, 3. , 1.4, 0.3],\n",
              "       [5.1, 3.8, 1.6, 0.2],\n",
              "       [4.6, 3.2, 1.4, 0.2],\n",
              "       [5.3, 3.7, 1.5, 0.2],\n",
              "       [5. , 3.3, 1.4, 0.2],\n",
              "       [7. , 3.2, 4.7, 1.4],\n",
              "       [6.4, 3.2, 4.5, 1.5],\n",
              "       [6.9, 3.1, 4.9, 1.5],\n",
              "       [5.5, 2.3, 4. , 1.3],\n",
              "       [6.5, 2.8, 4.6, 1.5],\n",
              "       [5.7, 2.8, 4.5, 1.3],\n",
              "       [6.3, 3.3, 4.7, 1.6],\n",
              "       [4.9, 2.4, 3.3, 1. ],\n",
              "       [6.6, 2.9, 4.6, 1.3],\n",
              "       [5.2, 2.7, 3.9, 1.4],\n",
              "       [5. , 2. , 3.5, 1. ],\n",
              "       [5.9, 3. , 4.2, 1.5],\n",
              "       [6. , 2.2, 4. , 1. ],\n",
              "       [6.1, 2.9, 4.7, 1.4],\n",
              "       [5.6, 2.9, 3.6, 1.3],\n",
              "       [6.7, 3.1, 4.4, 1.4],\n",
              "       [5.6, 3. , 4.5, 1.5],\n",
              "       [5.8, 2.7, 4.1, 1. ],\n",
              "       [6.2, 2.2, 4.5, 1.5],\n",
              "       [5.6, 2.5, 3.9, 1.1],\n",
              "       [5.9, 3.2, 4.8, 1.8],\n",
              "       [6.1, 2.8, 4. , 1.3],\n",
              "       [6.3, 2.5, 4.9, 1.5],\n",
              "       [6.1, 2.8, 4.7, 1.2],\n",
              "       [6.4, 2.9, 4.3, 1.3],\n",
              "       [6.6, 3. , 4.4, 1.4],\n",
              "       [6.8, 2.8, 4.8, 1.4],\n",
              "       [6.7, 3. , 5. , 1.7],\n",
              "       [6. , 2.9, 4.5, 1.5],\n",
              "       [5.7, 2.6, 3.5, 1. ],\n",
              "       [5.5, 2.4, 3.8, 1.1],\n",
              "       [5.5, 2.4, 3.7, 1. ],\n",
              "       [5.8, 2.7, 3.9, 1.2],\n",
              "       [6. , 2.7, 5.1, 1.6],\n",
              "       [5.4, 3. , 4.5, 1.5],\n",
              "       [6. , 3.4, 4.5, 1.6],\n",
              "       [6.7, 3.1, 4.7, 1.5],\n",
              "       [6.3, 2.3, 4.4, 1.3],\n",
              "       [5.6, 3. , 4.1, 1.3],\n",
              "       [5.5, 2.5, 4. , 1.3],\n",
              "       [5.5, 2.6, 4.4, 1.2],\n",
              "       [6.1, 3. , 4.6, 1.4],\n",
              "       [5.8, 2.6, 4. , 1.2],\n",
              "       [5. , 2.3, 3.3, 1. ],\n",
              "       [5.6, 2.7, 4.2, 1.3],\n",
              "       [5.7, 3. , 4.2, 1.2],\n",
              "       [5.7, 2.9, 4.2, 1.3],\n",
              "       [6.2, 2.9, 4.3, 1.3],\n",
              "       [5.1, 2.5, 3. , 1.1],\n",
              "       [5.7, 2.8, 4.1, 1.3],\n",
              "       [6.3, 3.3, 6. , 2.5],\n",
              "       [5.8, 2.7, 5.1, 1.9],\n",
              "       [7.1, 3. , 5.9, 2.1],\n",
              "       [6.3, 2.9, 5.6, 1.8],\n",
              "       [6.5, 3. , 5.8, 2.2],\n",
              "       [7.6, 3. , 6.6, 2.1],\n",
              "       [4.9, 2.5, 4.5, 1.7],\n",
              "       [7.3, 2.9, 6.3, 1.8],\n",
              "       [6.7, 2.5, 5.8, 1.8],\n",
              "       [7.2, 3.6, 6.1, 2.5],\n",
              "       [6.5, 3.2, 5.1, 2. ],\n",
              "       [6.4, 2.7, 5.3, 1.9],\n",
              "       [6.8, 3. , 5.5, 2.1],\n",
              "       [5.7, 2.5, 5. , 2. ],\n",
              "       [5.8, 2.8, 5.1, 2.4],\n",
              "       [6.4, 3.2, 5.3, 2.3],\n",
              "       [6.5, 3. , 5.5, 1.8],\n",
              "       [7.7, 3.8, 6.7, 2.2],\n",
              "       [7.7, 2.6, 6.9, 2.3],\n",
              "       [6. , 2.2, 5. , 1.5],\n",
              "       [6.9, 3.2, 5.7, 2.3],\n",
              "       [5.6, 2.8, 4.9, 2. ],\n",
              "       [7.7, 2.8, 6.7, 2. ],\n",
              "       [6.3, 2.7, 4.9, 1.8],\n",
              "       [6.7, 3.3, 5.7, 2.1],\n",
              "       [7.2, 3.2, 6. , 1.8],\n",
              "       [6.2, 2.8, 4.8, 1.8],\n",
              "       [6.1, 3. , 4.9, 1.8],\n",
              "       [6.4, 2.8, 5.6, 2.1],\n",
              "       [7.2, 3. , 5.8, 1.6],\n",
              "       [7.4, 2.8, 6.1, 1.9],\n",
              "       [7.9, 3.8, 6.4, 2. ],\n",
              "       [6.4, 2.8, 5.6, 2.2],\n",
              "       [6.3, 2.8, 5.1, 1.5],\n",
              "       [6.1, 2.6, 5.6, 1.4],\n",
              "       [7.7, 3. , 6.1, 2.3],\n",
              "       [6.3, 3.4, 5.6, 2.4],\n",
              "       [6.4, 3.1, 5.5, 1.8],\n",
              "       [6. , 3. , 4.8, 1.8],\n",
              "       [6.9, 3.1, 5.4, 2.1],\n",
              "       [6.7, 3.1, 5.6, 2.4],\n",
              "       [6.9, 3.1, 5.1, 2.3],\n",
              "       [5.8, 2.7, 5.1, 1.9],\n",
              "       [6.8, 3.2, 5.9, 2.3],\n",
              "       [6.7, 3.3, 5.7, 2.5],\n",
              "       [6.7, 3. , 5.2, 2.3],\n",
              "       [6.3, 2.5, 5. , 1.9],\n",
              "       [6.5, 3. , 5.2, 2. ],\n",
              "       [6.2, 3.4, 5.4, 2.3],\n",
              "       [5.9, 3. , 5.1, 1.8]])"
            ]
          },
          "metadata": {},
          "execution_count": 18
        }
      ],
      "source": [
        "X"
      ]
    },
    {
      "cell_type": "code",
      "execution_count": 19,
      "metadata": {
        "colab": {
          "base_uri": "https://localhost:8080/"
        },
        "id": "51PxVhqmOvw9",
        "outputId": "b9c3f490-b9ea-45dd-bbc8-d0ca74cf20f2"
      },
      "outputs": [
        {
          "output_type": "execute_result",
          "data": {
            "text/plain": [
              "array([0, 0, 0, 0, 0, 0, 0, 0, 0, 0, 0, 0, 0, 0, 0, 0, 0, 0, 0, 0, 0, 0,\n",
              "       0, 0, 0, 0, 0, 0, 0, 0, 0, 0, 0, 0, 0, 0, 0, 0, 0, 0, 0, 0, 0, 0,\n",
              "       0, 0, 0, 0, 0, 0, 1, 1, 1, 1, 1, 1, 1, 1, 1, 1, 1, 1, 1, 1, 1, 1,\n",
              "       1, 1, 1, 1, 1, 1, 1, 1, 1, 1, 1, 1, 1, 1, 1, 1, 1, 1, 1, 1, 1, 1,\n",
              "       1, 1, 1, 1, 1, 1, 1, 1, 1, 1, 1, 1, 2, 2, 2, 2, 2, 2, 2, 2, 2, 2,\n",
              "       2, 2, 2, 2, 2, 2, 2, 2, 2, 2, 2, 2, 2, 2, 2, 2, 2, 2, 2, 2, 2, 2,\n",
              "       2, 2, 2, 2, 2, 2, 2, 2, 2, 2, 2, 2, 2, 2, 2, 2, 2, 2])"
            ]
          },
          "metadata": {},
          "execution_count": 19
        }
      ],
      "source": [
        "y"
      ]
    },
    {
      "cell_type": "code",
      "execution_count": 20,
      "metadata": {
        "id": "ekYcPCkEOvw-"
      },
      "outputs": [],
      "source": [
        "clf=tree.DecisionTreeClassifier(criterion='entropy').fit(X,y)"
      ]
    },
    {
      "cell_type": "code",
      "execution_count": 21,
      "metadata": {
        "colab": {
          "base_uri": "https://localhost:8080/"
        },
        "id": "cIdH1kTSOvw-",
        "outputId": "ce04c5c8-d57b-46f3-a1dc-4a03a7a610fb"
      },
      "outputs": [
        {
          "output_type": "execute_result",
          "data": {
            "text/plain": [
              "1.0"
            ]
          },
          "metadata": {},
          "execution_count": 21
        }
      ],
      "source": [
        "clf.score(X,y)"
      ]
    },
    {
      "cell_type": "code",
      "execution_count": 22,
      "metadata": {
        "colab": {
          "base_uri": "https://localhost:8080/"
        },
        "id": "gd7dWOQTOvw-",
        "outputId": "66ae3ffb-8f4f-43a1-9fab-ecfa730c7562"
      },
      "outputs": [
        {
          "output_type": "execute_result",
          "data": {
            "text/plain": [
              "True"
            ]
          },
          "metadata": {},
          "execution_count": 22
        }
      ],
      "source": [
        "from graphviz import Digraph\n",
        "import pydotplus\n",
        "\n",
        "dot_data=tree.export_graphviz(clf,out_file=None)\n",
        "graph=pydotplus.graph_from_dot_data(dot_data)\n",
        "graph.write_pdf('iris.pdf')"
      ]
    },
    {
      "cell_type": "markdown",
      "source": [
        "2."
      ],
      "metadata": {
        "id": "_yYRjhuWVKsd"
      }
    },
    {
      "cell_type": "code",
      "execution_count": 23,
      "metadata": {
        "id": "sSgecoXMOvw_"
      },
      "outputs": [],
      "source": [
        "from sklearn.model_selection import train_test_split"
      ]
    },
    {
      "cell_type": "code",
      "source": [
        "X_train,X_test,y_train,y_test=train_test_split(X,y,test_size=0.3)"
      ],
      "metadata": {
        "id": "34Xqqd7sP4_z"
      },
      "execution_count": 24,
      "outputs": []
    },
    {
      "cell_type": "code",
      "source": [
        "clf=tree.DecisionTreeClassifier(criterion='entropy').fit(X_train,y_train)"
      ],
      "metadata": {
        "id": "IdIHakWeP8rl"
      },
      "execution_count": 25,
      "outputs": []
    },
    {
      "cell_type": "code",
      "source": [
        "clf.score(X_train,y_train)"
      ],
      "metadata": {
        "colab": {
          "base_uri": "https://localhost:8080/"
        },
        "id": "xuFhk07CQBE6",
        "outputId": "0647c353-9797-4f8d-e1cd-1dbcec635762"
      },
      "execution_count": 26,
      "outputs": [
        {
          "output_type": "execute_result",
          "data": {
            "text/plain": [
              "1.0"
            ]
          },
          "metadata": {},
          "execution_count": 26
        }
      ]
    },
    {
      "cell_type": "code",
      "source": [
        "clf.predict(X_test)"
      ],
      "metadata": {
        "colab": {
          "base_uri": "https://localhost:8080/"
        },
        "id": "3ZqwodGlQCkk",
        "outputId": "2bac5a90-8449-4429-e262-200563273581"
      },
      "execution_count": 27,
      "outputs": [
        {
          "output_type": "execute_result",
          "data": {
            "text/plain": [
              "array([1, 0, 1, 2, 2, 2, 0, 0, 2, 0, 0, 0, 2, 2, 2, 2, 2, 0, 2, 1, 2, 2,\n",
              "       2, 2, 0, 1, 1, 1, 1, 0, 1, 2, 0, 0, 0, 0, 0, 0, 2, 0, 0, 0, 2, 0,\n",
              "       0])"
            ]
          },
          "metadata": {},
          "execution_count": 27
        }
      ]
    },
    {
      "cell_type": "code",
      "source": [
        "clf.score(X_test,y_test)"
      ],
      "metadata": {
        "colab": {
          "base_uri": "https://localhost:8080/"
        },
        "id": "obb_at6YQFNA",
        "outputId": "41272033-9b30-4882-8c0c-bcc8c59837bc"
      },
      "execution_count": 28,
      "outputs": [
        {
          "output_type": "execute_result",
          "data": {
            "text/plain": [
              "0.8888888888888888"
            ]
          },
          "metadata": {},
          "execution_count": 28
        }
      ]
    },
    {
      "cell_type": "code",
      "source": [
        "clf=tree.DecisionTreeClassifier(criterion='entropy',max_depth=3).fit(X_train,y_train)"
      ],
      "metadata": {
        "id": "OsOA-2JrQJY6"
      },
      "execution_count": 29,
      "outputs": []
    },
    {
      "cell_type": "code",
      "source": [
        "clf.predict(X_test)"
      ],
      "metadata": {
        "colab": {
          "base_uri": "https://localhost:8080/"
        },
        "id": "qi8Vf18qQL7W",
        "outputId": "b6038a44-0223-4a65-f006-1dd3ac01ba2f"
      },
      "execution_count": 30,
      "outputs": [
        {
          "output_type": "execute_result",
          "data": {
            "text/plain": [
              "array([1, 0, 1, 2, 2, 2, 0, 0, 2, 0, 0, 0, 2, 2, 2, 1, 2, 0, 2, 1, 1, 1,\n",
              "       2, 2, 0, 1, 1, 1, 1, 0, 1, 2, 0, 0, 0, 0, 0, 0, 2, 0, 0, 0, 2, 0,\n",
              "       0])"
            ]
          },
          "metadata": {},
          "execution_count": 30
        }
      ]
    },
    {
      "cell_type": "code",
      "source": [
        "clf.score(X_train,y_train)"
      ],
      "metadata": {
        "colab": {
          "base_uri": "https://localhost:8080/"
        },
        "id": "6bVcBCUuQMEo",
        "outputId": "6809fd14-88f7-4af1-d251-aa54bbf0a7c6"
      },
      "execution_count": 31,
      "outputs": [
        {
          "output_type": "execute_result",
          "data": {
            "text/plain": [
              "0.9809523809523809"
            ]
          },
          "metadata": {},
          "execution_count": 31
        }
      ]
    },
    {
      "cell_type": "code",
      "source": [
        "clf.score(X_test,y_test)"
      ],
      "metadata": {
        "colab": {
          "base_uri": "https://localhost:8080/"
        },
        "id": "tv7ozsnnQMNE",
        "outputId": "a7c97d41-250a-42f5-8d83-43e71e800849"
      },
      "execution_count": 32,
      "outputs": [
        {
          "output_type": "execute_result",
          "data": {
            "text/plain": [
              "0.9555555555555556"
            ]
          },
          "metadata": {},
          "execution_count": 32
        }
      ]
    },
    {
      "cell_type": "code",
      "source": [
        "clf=tree.DecisionTreeClassifier(criterion='gini',max_depth=3).fit(X_train,y_train)"
      ],
      "metadata": {
        "id": "EhsXLTlPQMXX"
      },
      "execution_count": 33,
      "outputs": []
    },
    {
      "cell_type": "code",
      "source": [
        "clf.predict(X_test)"
      ],
      "metadata": {
        "colab": {
          "base_uri": "https://localhost:8080/"
        },
        "id": "tWEMF2ODQXqr",
        "outputId": "245312a0-f4c9-4bc3-c421-b35d3e91acec"
      },
      "execution_count": 34,
      "outputs": [
        {
          "output_type": "execute_result",
          "data": {
            "text/plain": [
              "array([1, 0, 1, 2, 2, 2, 0, 0, 2, 0, 0, 0, 2, 2, 2, 1, 2, 0, 2, 1, 1, 1,\n",
              "       2, 2, 0, 1, 1, 1, 1, 0, 1, 2, 0, 0, 0, 0, 0, 0, 2, 0, 0, 0, 2, 0,\n",
              "       0])"
            ]
          },
          "metadata": {},
          "execution_count": 34
        }
      ]
    },
    {
      "cell_type": "code",
      "source": [
        "clf.score(X_test,y_test)"
      ],
      "metadata": {
        "colab": {
          "base_uri": "https://localhost:8080/"
        },
        "id": "-DbTgFuvQaEF",
        "outputId": "6f5b6167-6fce-459b-e4cd-ab6ba1cc5f52"
      },
      "execution_count": 35,
      "outputs": [
        {
          "output_type": "execute_result",
          "data": {
            "text/plain": [
              "0.9555555555555556"
            ]
          },
          "metadata": {},
          "execution_count": 35
        }
      ]
    },
    {
      "cell_type": "code",
      "source": [
        "dot_data=tree.export_graphviz(clf,out_file=None)\n",
        "graph=pydotplus.graph_from_dot_data(dot_data)\n",
        "graph.write_pdf('iris_gini_max3.pdf')"
      ],
      "metadata": {
        "colab": {
          "base_uri": "https://localhost:8080/"
        },
        "id": "KhtSjmITQdN7",
        "outputId": "705bb22d-cd5d-4750-ac18-f36aec72ee66"
      },
      "execution_count": 36,
      "outputs": [
        {
          "output_type": "execute_result",
          "data": {
            "text/plain": [
              "True"
            ]
          },
          "metadata": {},
          "execution_count": 36
        }
      ]
    },
    {
      "cell_type": "markdown",
      "source": [
        "3.KNN"
      ],
      "metadata": {
        "id": "3tD077MOVzsj"
      }
    },
    {
      "cell_type": "code",
      "source": [
        "from sklearn.model_selection import train_test_split\n",
        "X_train, X_test, y_train, y_test = train_test_split(X, y, test_size=0.3)"
      ],
      "metadata": {
        "id": "V1dHv6hQRubH"
      },
      "execution_count": 37,
      "outputs": []
    },
    {
      "cell_type": "code",
      "source": [
        "from sklearn.tree import DecisionTreeClassifier\n",
        "from sklearn import neighbors\n",
        "clf = neighbors.KNeighborsClassifier()\n",
        "iris_clf = clf.fit(X_train, y_train)"
      ],
      "metadata": {
        "id": "XV1poxm6YwR7"
      },
      "execution_count": 38,
      "outputs": []
    },
    {
      "cell_type": "code",
      "source": [
        "test_y_predicted = iris_clf.predict(X_test)\n",
        "print(test_y_predicted)"
      ],
      "metadata": {
        "colab": {
          "base_uri": "https://localhost:8080/"
        },
        "id": "Mo6Fl9C4ayBl",
        "outputId": "c4f00ece-41f5-494a-f128-24486b9da4d2"
      },
      "execution_count": 39,
      "outputs": [
        {
          "output_type": "stream",
          "name": "stdout",
          "text": [
            "[2 1 2 2 2 1 2 1 2 2 1 2 0 2 1 2 1 0 0 2 0 1 2 0 2 2 1 1 2 0 0 0 0 1 2 0 2\n",
            " 0 0 1 1 2 0 0 1]\n"
          ]
        }
      ]
    },
    {
      "cell_type": "code",
      "source": [
        "clf.score(X_test,y_test)"
      ],
      "metadata": {
        "colab": {
          "base_uri": "https://localhost:8080/"
        },
        "id": "Ydsu-yLsa65h",
        "outputId": "bddf2f2a-4a49-4a3d-b38c-67f7c94f9017"
      },
      "execution_count": 40,
      "outputs": [
        {
          "output_type": "execute_result",
          "data": {
            "text/plain": [
              "0.9555555555555556"
            ]
          },
          "metadata": {},
          "execution_count": 40
        }
      ]
    },
    {
      "cell_type": "code",
      "source": [
        "from sklearn.tree import export_graphviz\n",
        "dot_data=tree.export_graphviz(clf,out_file=None)\n",
        "graph=pydotplus.graph_from_dot_data(dot_data)\n",
        "graph.write_pdf('test2.pdf')"
      ],
      "metadata": {
        "colab": {
          "base_uri": "https://localhost:8080/"
        },
        "id": "qnDDXpA2YwNp",
        "outputId": "c337d610-e188-4c97-dee7-854f28a0eac1"
      },
      "execution_count": 47,
      "outputs": [
        {
          "output_type": "execute_result",
          "data": {
            "text/plain": [
              "True"
            ]
          },
          "metadata": {},
          "execution_count": 47
        }
      ]
    },
    {
      "cell_type": "markdown",
      "source": [
        "4.隨機森林"
      ],
      "metadata": {
        "id": "uG-MjMlPfrrP"
      }
    },
    {
      "cell_type": "code",
      "source": [
        "from sklearn.metrics import r2_score, mean_squared_error, mean_absolute_error, mean_absolute_percentage_error\n",
        "from sklearn.ensemble import RandomForestClassifier\n",
        "import sklearn.metrics as metrics\n",
        "df=pd.read_excel(\"AirQualityUCI.xlsx\")\n",
        "\n",
        "clf=RandomForestClassifier(n_estimators = 52,random_state=42)       \n",
        "clf.fit(X_train,y_train)                          \n",
        "predict=clf.predict(X_test)   "
      ],
      "metadata": {
        "id": "hTPAS7kKYv5G"
      },
      "execution_count": 42,
      "outputs": []
    },
    {
      "cell_type": "code",
      "source": [
        "test_y_predicted = iris_clf.predict(X_test)\n",
        "print(test_y_predicted)"
      ],
      "metadata": {
        "colab": {
          "base_uri": "https://localhost:8080/"
        },
        "id": "RE7f_6t-hulq",
        "outputId": "3663d2df-b44d-4204-b6c4-3529e94fb8af"
      },
      "execution_count": 43,
      "outputs": [
        {
          "output_type": "stream",
          "name": "stdout",
          "text": [
            "[2 1 2 2 2 1 2 1 2 2 1 2 0 2 1 2 1 0 0 2 0 1 2 0 2 2 1 1 2 0 0 0 0 1 2 0 2\n",
            " 0 0 1 1 2 0 0 1]\n"
          ]
        }
      ]
    },
    {
      "cell_type": "code",
      "source": [
        "clf.score(X_test,y_test)"
      ],
      "metadata": {
        "colab": {
          "base_uri": "https://localhost:8080/"
        },
        "id": "HtUOp4vAiNDw",
        "outputId": "2f35a010-019a-4b29-e1c2-62e7007af51f"
      },
      "execution_count": 44,
      "outputs": [
        {
          "output_type": "execute_result",
          "data": {
            "text/plain": [
              "0.9555555555555556"
            ]
          },
          "metadata": {},
          "execution_count": 44
        }
      ]
    },
    {
      "cell_type": "code",
      "source": [
        "from sklearn.tree import export_graphviz\n",
        "clf=tree.DecisionTreeClassifier(criterion='gini',max_depth=3).fit(X_train,y_train)\n",
        "dot_data=tree.export_graphviz(clf,out_file=None)\n",
        "graph=pydotplus.graph_from_dot_data(dot_data)\n",
        "graph.write_pdf('test.pdf')"
      ],
      "metadata": {
        "colab": {
          "base_uri": "https://localhost:8080/"
        },
        "id": "EbQnlycujIho",
        "outputId": "45954a51-048c-4010-c9dc-a3d72d61dc15"
      },
      "execution_count": 45,
      "outputs": [
        {
          "output_type": "execute_result",
          "data": {
            "text/plain": [
              "True"
            ]
          },
          "metadata": {},
          "execution_count": 45
        }
      ]
    }
  ],
  "metadata": {
    "kernelspec": {
      "display_name": "Python 3 (ipykernel)",
      "language": "python",
      "name": "python3"
    },
    "language_info": {
      "codemirror_mode": {
        "name": "ipython",
        "version": 3
      },
      "file_extension": ".py",
      "mimetype": "text/x-python",
      "name": "python",
      "nbconvert_exporter": "python",
      "pygments_lexer": "ipython3",
      "version": "3.9.13"
    },
    "colab": {
      "provenance": [],
      "collapsed_sections": []
    }
  },
  "nbformat": 4,
  "nbformat_minor": 0
}